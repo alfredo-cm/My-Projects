{
 "cells": [
  {
   "cell_type": "markdown",
   "metadata": {},
   "source": [
    "# Perceptron\n",
    "# Datos Linealmente separables"
   ]
  },
  {
   "cell_type": "code",
   "execution_count": null,
   "metadata": {},
   "outputs": [],
   "source": [
    "import numpy as np\n",
    "import matplotlib.pyplot as plt\n",
    "\n",
    "# Edad y salario de las pesonas en la escala del [0-1]\n",
    "personas = np.array([[0.3, 0.4], [0.4, 0.3],\n",
    "                     [0.3, 0.2], [0.4, 0.1], \n",
    "                     [0.5, 0.2], [0.4, 0.8],\n",
    "                     [0.6, 0.8], [0.5, 0.6], \n",
    "                     [0.7, 0.6], [0.8, 0.5]])\n",
    "\n",
    "# 0: Denegadas  1: Aprobadas\n",
    "clases = np.array([0, 0, 0, 0, 0, 1, 1, 1, 1, 1])\n",
    "\n",
    "# Gráfico de dispersión (edad, ahorro)\n",
    "plt.figure(figsize=(7, 7))\n",
    "plt.title(\"Tarjeta Platinum?\", fontsize=20)\n",
    "plt.scatter(personas[clases==0][:,0], personas[clases==0][:,1], marker=\"x\", s=180, color=\"red\", linewidths=5, label=\"Denegada\")\n",
    "plt.scatter(personas[clases==1][:,0], personas[clases==1][:,1], marker=\"o\", s=180, color=\"blue\", linewidths=5, label=\"Aprobada\")\n",
    "plt.xlabel(\"Edad\", fontsize=15)\n",
    "plt.ylabel(\"Ahorro\", fontsize=15)\n",
    "plt.legend(bbox_to_anchor=(1.3, 0.15))\n",
    "plt.box(False)\n",
    "plt.xlim(0, 1.01)\n",
    "plt.ylim(0, 1.01)\n",
    "plt.grid()\n",
    "plt.show()"
   ]
  },
  {
   "cell_type": "markdown",
   "metadata": {},
   "source": [
    "## Función de activación (Escalón)"
   ]
  },
  {
   "cell_type": "code",
   "execution_count": 24,
   "metadata": {},
   "outputs": [],
   "source": [
    "def activacion(pesos, entradas, bias):\n",
    "    z = pesos * entradas\n",
    "    if z.sum() + bias > 0:\n",
    "        return 1\n",
    "    else:\n",
    "        return 0"
   ]
  },
  {
   "cell_type": "markdown",
   "metadata": {},
   "source": [
    "## Entrenamiento del perceptrón"
   ]
  },
  {
   "cell_type": "code",
   "execution_count": null,
   "metadata": {},
   "outputs": [],
   "source": [
    "pesos = np.random.uniform(-1, 1, size=2)\n",
    "bias = np.random.uniform(-1, 1)\n",
    "tasa_de_aprendizaje = 0.01\n",
    "epocas = 100\n",
    "\n",
    "for epoca in range(epocas):\n",
    "    error_total = 0\n",
    "    for i in range(len(personas)):\n",
    "        prediccion = activacion(pesos, personas[i], bias)\n",
    "        error = clases[i] - prediccion\n",
    "        error_total += error**2\n",
    "        pesos[0] += tasa_de_aprendizaje * personas[i][0] * error\n",
    "        pesos[1] += tasa_de_aprendizaje * personas[i][1] * error\n",
    "        bias += tasa_de_aprendizaje * error \n",
    "    print(error_total, end=\" \")\n",
    "\n",
    "resultado = activacion(pesos, [0.6, 0.9], bias)\n",
    "print(\"\\nPredicción:\", resultado)"
   ]
  },
  {
   "cell_type": "markdown",
   "metadata": {},
   "source": [
    "# Perceptron con Scikit-Learn"
   ]
  },
  {
   "cell_type": "code",
   "execution_count": null,
   "metadata": {},
   "outputs": [],
   "source": [
    "from sklearn.linear_model import Perceptron\n",
    "perceptron = Perceptron().fit(personas, clases)\n",
    "perceptron.predict([[0.2, 0.2], [0, 0.5]])"
   ]
  }
 ],
 "metadata": {
  "kernelspec": {
   "display_name": "Python 3",
   "language": "python",
   "name": "python3"
  },
  "language_info": {
   "codemirror_mode": {
    "name": "ipython",
    "version": 3
   },
   "file_extension": ".py",
   "mimetype": "text/x-python",
   "name": "python",
   "nbconvert_exporter": "python",
   "pygments_lexer": "ipython3",
   "version": "3.12.7"
  }
 },
 "nbformat": 4,
 "nbformat_minor": 2
}
