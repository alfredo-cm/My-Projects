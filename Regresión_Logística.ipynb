{
  "cells": [
    {
      "cell_type": "markdown",
      "metadata": {
        "id": "view-in-github",
        "colab_type": "text"
      },
      "source": [
        "<a href=\"https://colab.research.google.com/github/alfredo030515/My-Projects/blob/Machine-Learning/Regresi%C3%B3n_Log%C3%ADstica.ipynb\" target=\"_parent\"><img src=\"https://colab.research.google.com/assets/colab-badge.svg\" alt=\"Open In Colab\"/></a>"
      ]
    },
    {
      "cell_type": "code",
      "execution_count": null,
      "metadata": {
        "id": "jjvx1BWWiAbN"
      },
      "outputs": [],
      "source": [
        "import numpy as np\n",
        "import pandas as pd\n",
        "from sklearn.linear_model import LogisticRegression\n",
        "from sklearn.model_selection import train_test_split\n",
        "from sklearn.preprocessing import LabelEncoder, StandardScaler\n",
        "from sklearn.multioutput import MultiOutputClassifier\n",
        "\n",
        "def cargar_datos(ruta):\n",
        "    df = pd.read_csv(ruta, sep=r'\\s+', header=None, skiprows=1).to_numpy()\n",
        "    datos = np.array([fila[:10] for fila in df])\n",
        "    clase = np.array([fila[-3:] for fila in df])\n",
        "    return datos, clase\n",
        "\n",
        "def codificar_datos(datos):\n",
        "    label_encoders = []\n",
        "    for i in range(datos.shape[1]):\n",
        "        if isinstance(datos[0, i], str):\n",
        "            le = LabelEncoder()\n",
        "            datos[:, i] = le.fit_transform(datos[:, i])\n",
        "            label_encoders.append(le)\n",
        "        else:\n",
        "            label_encoders.append(None)\n",
        "    datos = datos.astype(int)\n",
        "    return datos, label_encoders\n",
        "\n",
        "\n",
        "\"\"\"def transformar_datos(datos_nuevos, label_encoders):\n",
        "    for i in range(datos_nuevos.shape[1]):\n",
        "        if isinstance(datos_nuevos[0, i], str):\n",
        "            if label_encoders[i] is not None:\n",
        "                datos_nuevos[0, i] = label_encoders[i].transform([datos_nuevos[0, i]])[0]\n",
        "    datos_nuevos = datos_nuevos.astype(int)\n",
        "    return datos_nuevos\"\"\"\n",
        "\n",
        "ruta_local = \"/content/drive/MyDrive/Archivos/flare.data2\"\n",
        "\n",
        "try:\n",
        "    datos, clase = cargar_datos(ruta_local)\n",
        "    datos, label_encoders = codificar_datos(datos)\n",
        "    for j in range(clase.shape[1]):\n",
        "        if isinstance(clase[0, j], str):\n",
        "            le = LabelEncoder()\n",
        "            clase[:, j] = le.fit_transform(clase[:, j])\n",
        "    clase = clase.astype(int)\n",
        "except Exception as e:\n",
        "    print(f\"Ocurrió un error al leer el archivo: {e}\")\n",
        "\n",
        "datos_entrena, datos_prueba, clase_entrena, clase_prueba = train_test_split(datos, clase, test_size=0.2)\n",
        "\n",
        "scaler = StandardScaler()\n",
        "datos_entrena = scaler.fit_transform(datos_entrena)\n",
        "datos_prueba = scaler.transform(datos_prueba)\n",
        "\n",
        "modelo = MultiOutputClassifier(LogisticRegression(max_iter=200))\n",
        "modelo.fit(datos_entrena, clase_entrena)\n",
        "np.set_printoptions(suppress=True)\n",
        "\n",
        "predicción = modelo.predict(datos_prueba)\n",
        "\n",
        "for col, le in enumerate(label_encoders):\n",
        "    if le is not None:\n",
        "        print(f\"Columna {col+1} clases: {le.classes_}\")\n",
        "\n",
        "print(\"Porcentaje de aciertos:\", modelo.score(datos_prueba, clase_prueba))\n",
        "print(\"\\n\", predicción)"
      ]
    }
  ],
  "metadata": {
    "colab": {
      "provenance": [],
      "authorship_tag": "ABX9TyO96eICZeeqAR2b/ftU8kOZ",
      "include_colab_link": true
    },
    "kernelspec": {
      "display_name": "Python 3",
      "name": "python3"
    },
    "language_info": {
      "name": "python"
    }
  },
  "nbformat": 4,
  "nbformat_minor": 0
}